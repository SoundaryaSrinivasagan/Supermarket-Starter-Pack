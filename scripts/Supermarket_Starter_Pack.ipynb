{
  "nbformat": 4,
  "nbformat_minor": 0,
  "metadata": {
    "colab": {
      "name": "Supermarket_Starter_Pack.ipynb",
      "provenance": [],
      "collapsed_sections": [
        "KPipunlI0-Oe",
        "enG5dfv-1GiR",
        "M-0GKiyD1ZsQ",
        "MyXE5BIDzeqk",
        "VjJWfYHSIGkb",
        "7NPDreG1ItRx"
      ]
    },
    "kernelspec": {
      "name": "python3",
      "display_name": "Python 3"
    },
    "language_info": {
      "name": "python"
    }
  },
  "cells": [
    {
      "cell_type": "markdown",
      "source": [
        "#**Supermarket Starter Pack**\n",
        "###**Context**\n",
        "The product will be used by my Supermarket Business, this product will help facilitate our current business processes to make day to day operations more efficient so that more time can be spent on helping and developing relationships with customers"
      ],
      "metadata": {
        "id": "d2wVemqv0rIy"
      }
    },
    {
      "cell_type": "markdown",
      "source": [
        "##**Price Data**"
      ],
      "metadata": {
        "id": "KPipunlI0-Oe"
      }
    },
    {
      "cell_type": "code",
      "source": [
        "# Sample Price Data\n",
        "\n",
        "item_dict = {'almonds': 6,\n",
        " 'antioxidant juice': 9,\n",
        " 'avocado': 1,\n",
        " 'black tea': 4,\n",
        " 'burgers': 4,\n",
        " 'champagne': 3,\n",
        " 'chicken': 4,\n",
        " 'chocolate': 7,\n",
        " 'chutney': 7,\n",
        " 'cookies': 7,\n",
        " 'cooking oil': 7,\n",
        " 'cottage cheese': 9,\n",
        " 'eggs': 9,\n",
        " 'energy bar': 9,\n",
        " 'energy drink': 3,\n",
        " 'extra dark chocolate': 8,\n",
        " 'french fries': 7,\n",
        " 'fresh tuna': 9,\n",
        " 'frozen smoothie': 7,\n",
        " 'frozen vegetables': 2,\n",
        " 'green grapes': 8,\n",
        " 'green tea': 8,\n",
        " 'honey': 9,\n",
        " 'light cream': 5,\n",
        " 'low fat yogurt': 4,\n",
        " 'meatballs': 9,\n",
        " 'milk': 5,\n",
        " 'mineral water': 2,\n",
        " 'oil': 9,\n",
        " 'olive oil': 8,\n",
        " 'pet food': 3,\n",
        " 'protein bar': 1,\n",
        " 'salad': 7,\n",
        " 'salmon': 3,\n",
        " 'shallot': 6,\n",
        " 'shrimp': 2,\n",
        " 'soup': 2,\n",
        " 'spaghetti': 6,\n",
        " 'spinach': 7,\n",
        " 'tomato juice': 8,\n",
        " 'tomatoes': 5,\n",
        " 'turkey': 8,\n",
        " 'vegetables mix': 3,\n",
        " 'whole wheat flour': 5,\n",
        " 'whole wheat pasta': 5,\n",
        " 'whole wheat rice': 4,\n",
        " 'yams': 7}\n"
      ],
      "metadata": {
        "id": "NxILMfcv0zTN"
      },
      "execution_count": 79,
      "outputs": []
    },
    {
      "cell_type": "markdown",
      "source": [
        "##**Transaction Data**"
      ],
      "metadata": {
        "id": "enG5dfv-1GiR"
      }
    },
    {
      "cell_type": "code",
      "source": [
        "# Sample Transaction Data\n",
        "\n",
        "transaction_data = \\\n",
        "[['shrimp', 'almonds', 'avocado', 'vegetables mix', 'green grapes', 'whole wheat flour', 'yams', 'cottage cheese', 'energy drink', 'tomato juice', 'low fat yogurt', 'green tea', 'honey', 'salad', 'mineral water', 'salmon', 'antioxidant juice', 'frozen smoothie', 'spinach', 'olive oil'],\n",
        "['burgers', 'meatballs', 'eggs'],\n",
        "['chutney'],\n",
        "['turkey', 'avocado'],\n",
        "['mineral water', 'milk', 'energy bar', 'whole wheat rice', 'green tea'],\n",
        "['low fat yogurt'],\n",
        "['whole wheat pasta', 'french fries'],\n",
        "['soup', 'light cream', 'shallot'],\n",
        "['frozen vegetables', 'spaghetti', 'green tea'],\n",
        "['french fries'],\n",
        "['eggs', 'pet food'],\n",
        "['cookies'],\n",
        "['turkey', 'burgers', 'mineral water', 'eggs', 'cooking oil'],\n",
        "['spaghetti', 'champagne', 'cookies'],\n",
        "['mineral water', 'salmon'],\n",
        "['mineral water'],\n",
        "['shrimp', 'chocolate', 'chicken', 'honey', 'oil', 'cooking oil', 'low fat yogurt'],\n",
        "['turkey', 'eggs'],\n",
        "['turkey', 'fresh tuna', 'tomatoes', 'spaghetti', 'mineral water', 'black tea', 'salmon', 'eggs', 'chicken', 'extra dark chocolate'],\n",
        "['meatballs', 'milk', 'honey', 'french fries', 'protein bar']]"
      ],
      "metadata": {
        "id": "GA64pEXl1Meg"
      },
      "execution_count": 18,
      "outputs": []
    },
    {
      "cell_type": "markdown",
      "source": [
        "#**Checkout Counter**"
      ],
      "metadata": {
        "id": "M-0GKiyD1ZsQ"
      }
    },
    {
      "cell_type": "code",
      "source": [
        "# ------------------------------------------------------------------------------------------------------------------------------------------------------\n",
        "# Finding what the customer purchased for a specific transaction\n",
        "'''\n",
        " Function:         transaction_no(trans_num)\n",
        " Description:      This function will help the Admin find the required transaction from transaction_data and return the list containing all the items from the transaction\n",
        " Input Parameters: trans_num : Int\n",
        "                               trans_num is the number of the transaction you want to pull from transaction_data\n",
        "'''\n",
        "transaction_no = lambda trans_num: transaction_data[int(trans_num) - 1]\n",
        "\n",
        "# ------------------------------------------------------------------------------------------------------------------------------------------------------\n",
        "# Total cost of the items in a transaction before tax\n",
        "'''\n",
        " Function:         total_cost_before_tax(trans_num)\n",
        " Description:      This function will return the number of items present in any transaction\n",
        " Input Parameters: trans_num : Int\n",
        "                               trans_num is the number of the transaction you want to pull from transaction_data\n",
        "'''\n",
        "def total_cost_before_tax (trans_num):\n",
        "  cost = 0\n",
        "  for item in transaction_no(trans_num):\n",
        "    cost = cost + item_dict[item]\n",
        "  return(cost)\n",
        "\n",
        "# ------------------------------------------------------------------------------------------------------------------------------------------------------\n",
        "# Total cost of the items in a transaction after 13% tax\n",
        "'''\n",
        " Function:         find_total_with_tax(trans_num)\n",
        " Description:      This Function should be able to find the final price of any transaction after Taxes have been implemented\n",
        " Input Parameters: trans_num : Int\n",
        "                               trans_num is the number of the transaction you want to pull from transaction_data\n",
        "'''   \n",
        "def find_total_with_tax(trans_num): \n",
        "  # Note that the taxes are assumed to be 13%, but they can be modified to the actual GST with respect to your country\n",
        "  final_price = total_cost_before_tax(trans_num) * 1.13\n",
        "  return(final_price)\n",
        "\n"
      ],
      "metadata": {
        "id": "O8N7StM991c7"
      },
      "execution_count": 70,
      "outputs": []
    },
    {
      "cell_type": "markdown",
      "source": [
        "# **Unit Testing for Checkout Counter**\n",
        "\n"
      ],
      "metadata": {
        "id": "MyXE5BIDzeqk"
      }
    },
    {
      "cell_type": "code",
      "source": [
        "from unittest import TestCase, TextTestRunner, defaultTestLoader\n",
        "\n",
        "# ------------------------------------------------------------------------------------------------------------------------------------------------------\n",
        "# Testing total cost of transaction before tax\n",
        "\n",
        "class total_cost_before_tax_test(TestCase):\n",
        "    def test_something(self):\n",
        "       message = \"Test Failed as the Expected Output was $16\"\n",
        "       self.assertEqual(16, total_cost_before_tax(9),message)\n",
        "\n",
        "TextTestRunner().run(defaultTestLoader.loadTestsFromTestCase(total_cost_before_tax_test))\n",
        "\n",
        "# ------------------------------------------------------------------------------------------------------------------------------------------------------\n",
        "# Testing total cost of transaction after 13% tax\n",
        "\n",
        "class total_cost_after_tax_test(TestCase):\n",
        "    def test_something(self):\n",
        "       message = \"Test Failed as the Expected Output was $24.86\"\n",
        "       self.assertEqual(24.86, find_total_with_tax(2),message)\n",
        "\n",
        "TextTestRunner().run(defaultTestLoader.loadTestsFromTestCase(total_cost_after_tax_test))\n"
      ],
      "metadata": {
        "colab": {
          "base_uri": "https://localhost:8080/"
        },
        "id": "YRuOoznk2uNk",
        "outputId": "7e48b718-0085-42c9-aa29-97fd6879219c"
      },
      "execution_count": 76,
      "outputs": [
        {
          "output_type": "stream",
          "name": "stderr",
          "text": [
            ".\n",
            "----------------------------------------------------------------------\n",
            "Ran 1 test in 0.002s\n",
            "\n",
            "OK\n",
            ".\n",
            "----------------------------------------------------------------------\n",
            "Ran 1 test in 0.003s\n",
            "\n",
            "OK\n"
          ]
        },
        {
          "output_type": "execute_result",
          "data": {
            "text/plain": [
              "<unittest.runner.TextTestResult run=1 errors=0 failures=0>"
            ]
          },
          "metadata": {},
          "execution_count": 76
        }
      ]
    },
    {
      "cell_type": "markdown",
      "source": [
        "# **Inventory Management System**"
      ],
      "metadata": {
        "id": "VjJWfYHSIGkb"
      }
    },
    {
      "cell_type": "code",
      "source": [
        "# ------------------------------------------------------------------------------------------------------------------------------------------------------\n",
        "# Add Item to Inventory\n",
        "'''\n",
        "   Function:         add_item(name, price)\n",
        "   Description:      This function should be able to add an item to the Cost dictionary / item_dict\n",
        "   Input Parameters: Name  : String\n",
        "                     Price : Integer (Assumption)\n",
        "'''\n",
        "\n",
        "add_item = lambda name, price: item_dict.update({str(name):int(price)})\n",
        "\n",
        "# ------------------------------------------------------------------------------------------------------------------------------------------------------\n",
        "# Remove Item to Inventory\n",
        "'''\n",
        "   Function:         remove_item(name)\n",
        "   Description:      This function should be able to remove an item from the Cost dictionary / item_dict\n",
        "   Input Parameters: Name : String\n",
        "'''\n",
        "\n",
        "def remove_item(name):\n",
        "  del item_dict[name]\n",
        "  success_msg = 'Item has been removed successfully'\n",
        "  return(success_msg)\n",
        "\n",
        "# ------------------------------------------------------------------------------------------------------------------------------------------------------\n",
        "# Frequency of Items in the Inventory\n",
        "'''\n",
        "   Function:         frequency_counter(flag)\n",
        "   Description:      This Function will create a Frequency Counter to count the number of items\n",
        "   Input Parameters: flag : Boolean\n",
        "                            If the Flag is true, the frequency counter will become active\n",
        "'''\n",
        "\n",
        "frequency_dict = {}  # creating the Empty Dictionary\n",
        "\n",
        "def frequency_counter(flag):\n",
        "  if (flag == True):\n",
        "    for transaction in transaction_data: # looping over each transaction\n",
        "      for item in transaction: # looping over each item present in the transaction\n",
        "        if item in frequency_dict:\n",
        "           frequency_dict[item] += 1 # increment the frequency by 1 if the item is found in the dictionary\n",
        "        else:\n",
        "           frequency_dict[item] = 1 # create a new key with the item name if the item is found for the first time\n",
        "  return(frequency_dict)\n",
        "\n",
        "# ------------------------------------------------------------------------------------------------------------------------------------------------------\n",
        "# Update Frequency Counter with every transaction\n",
        "'''\n",
        "   Function:         update_counter(flag)\n",
        "   Description:      This Function will automatically update the Frequency Counter in the case any New Transactions are made\n",
        "   Input Parameters: flag : Boolean\n",
        "                            If the Flag is true, the frequency counter will become active\n",
        "'''\n",
        "def update_counter(flag):\n",
        "  return frequency_counter(flag)\n",
        "\n",
        "# update_counter = lambda flag: frequency_counter(flag)\n"
      ],
      "metadata": {
        "id": "n2ibTbeWIH0l"
      },
      "execution_count": 134,
      "outputs": []
    },
    {
      "cell_type": "markdown",
      "source": [
        "# **Unit Testing for Inventory Management System**\n"
      ],
      "metadata": {
        "id": "7NPDreG1ItRx"
      }
    },
    {
      "cell_type": "code",
      "source": [
        "from unittest import TestCase, TextTestRunner, defaultTestLoader\n",
        "\n",
        "# ------------------------------------------------------------------------------------------------------------------------------------------------------\n",
        "# Testing Adding Item to Inventory\n",
        "\n",
        "class add_item_to_inventory_test(TestCase):\n",
        "    def test_something(self):\n",
        "       add_item_to_dict = add_item('banana', 5)\n",
        "       self.assertTrue((item_dict['banana'] == 5), add_item_to_dict)\n",
        "\n",
        "TextTestRunner().run(defaultTestLoader.loadTestsFromTestCase(add_item_to_inventory_test))\n",
        "print(\"After Adding: \", item_dict)\n",
        "\n",
        "# ------------------------------------------------------------------------------------------------------------------------------------------------------\n",
        "# Testing Removing Item to Inventory\n",
        "\n",
        "class remove_item_to_inventory_test(TestCase):\n",
        "    def test_something(self):\n",
        "       remove_item_to_dict = remove_item('banana')\n",
        "       self.assertEqual(('Item has been removed successfully'), remove_item_to_dict)\n",
        "\n",
        "TextTestRunner().run(defaultTestLoader.loadTestsFromTestCase(remove_item_to_inventory_test))\n",
        "print(\"After Removing: \", item_dict)\n",
        "\n",
        "# ------------------------------------------------------------------------------------------------------------------------------------------------------\n",
        "# Test to see if the Frequency Counter works after a new transaction is made, this would allow Admin to see the current stock of the inventory \n",
        "\n",
        "new_order = [\"honey\", \"pet food\", \"shrimp\"]\n",
        "\n",
        "#transaction_data.remove(new_order)\n",
        "\n",
        "class update_counter_test(TestCase):\n",
        "   def test_something(self):\n",
        "       transaction_data.append(new_order)\n",
        "       test_update_counter = update_counter(True)\n",
        "       self.assertTrue((frequency_dict['almonds'] == 1), test_update_counter)\n",
        "\n",
        "TextTestRunner().run(defaultTestLoader.loadTestsFromTestCase(update_counter_test))\n",
        "print(\"Frequency Counter Dictionary: \", frequency_dict)\n"
      ],
      "metadata": {
        "colab": {
          "base_uri": "https://localhost:8080/"
        },
        "id": "0SdWcTK_IxuV",
        "outputId": "994e174b-5d46-4152-8aeb-3a039e10fe7d"
      },
      "execution_count": 137,
      "outputs": [
        {
          "output_type": "stream",
          "name": "stderr",
          "text": [
            ".\n",
            "----------------------------------------------------------------------\n",
            "Ran 1 test in 0.003s\n",
            "\n",
            "OK\n",
            ".\n",
            "----------------------------------------------------------------------\n",
            "Ran 1 test in 0.001s\n",
            "\n",
            "OK\n",
            "."
          ]
        },
        {
          "output_type": "stream",
          "name": "stdout",
          "text": [
            "After Adding:  {'almonds': 6, 'antioxidant juice': 9, 'black tea': 4, 'burgers': 4, 'champagne': 3, 'chicken': 4, 'chocolate': 7, 'chutney': 7, 'cookies': 7, 'cooking oil': 7, 'cottage cheese': 9, 'eggs': 9, 'energy bar': 9, 'energy drink': 3, 'extra dark chocolate': 8, 'french fries': 7, 'fresh tuna': 9, 'frozen smoothie': 7, 'frozen vegetables': 2, 'green grapes': 8, 'green tea': 8, 'honey': 9, 'light cream': 5, 'low fat yogurt': 4, 'meatballs': 9, 'milk': 5, 'mineral water': 2, 'oil': 9, 'olive oil': 8, 'pet food': 3, 'protein bar': 1, 'salad': 7, 'salmon': 3, 'shallot': 6, 'shrimp': 2, 'soup': 2, 'spaghetti': 6, 'spinach': 7, 'tomato juice': 8, 'tomatoes': 5, 'turkey': 8, 'vegetables mix': 3, 'whole wheat flour': 5, 'whole wheat pasta': 5, 'whole wheat rice': 4, 'yams': 7, 'avocado': 1, 'banana': 5}\n",
            "After Removing:  {'almonds': 6, 'antioxidant juice': 9, 'black tea': 4, 'burgers': 4, 'champagne': 3, 'chicken': 4, 'chocolate': 7, 'chutney': 7, 'cookies': 7, 'cooking oil': 7, 'cottage cheese': 9, 'eggs': 9, 'energy bar': 9, 'energy drink': 3, 'extra dark chocolate': 8, 'french fries': 7, 'fresh tuna': 9, 'frozen smoothie': 7, 'frozen vegetables': 2, 'green grapes': 8, 'green tea': 8, 'honey': 9, 'light cream': 5, 'low fat yogurt': 4, 'meatballs': 9, 'milk': 5, 'mineral water': 2, 'oil': 9, 'olive oil': 8, 'pet food': 3, 'protein bar': 1, 'salad': 7, 'salmon': 3, 'shallot': 6, 'shrimp': 2, 'soup': 2, 'spaghetti': 6, 'spinach': 7, 'tomato juice': 8, 'tomatoes': 5, 'turkey': 8, 'vegetables mix': 3, 'whole wheat flour': 5, 'whole wheat pasta': 5, 'whole wheat rice': 4, 'yams': 7, 'avocado': 1}\n",
            "Frequency Counter Dictionary:  {'shrimp': 3, 'almonds': 1, 'avocado': 2, 'vegetables mix': 1, 'green grapes': 1, 'whole wheat flour': 1, 'yams': 1, 'cottage cheese': 1, 'energy drink': 1, 'tomato juice': 1, 'low fat yogurt': 3, 'green tea': 3, 'honey': 4, 'salad': 1, 'mineral water': 6, 'salmon': 3, 'antioxidant juice': 1, 'frozen smoothie': 1, 'spinach': 1, 'olive oil': 1, 'burgers': 2, 'meatballs': 2, 'eggs': 5, 'chutney': 1, 'turkey': 4, 'milk': 2, 'energy bar': 1, 'whole wheat rice': 1, 'whole wheat pasta': 1, 'french fries': 3, 'soup': 1, 'light cream': 1, 'shallot': 1, 'frozen vegetables': 1, 'spaghetti': 3, 'pet food': 2, 'cookies': 2, 'cooking oil': 2, 'champagne': 1, 'chocolate': 1, 'chicken': 2, 'oil': 1, 'fresh tuna': 1, 'tomatoes': 1, 'black tea': 1, 'extra dark chocolate': 1, 'protein bar': 1}\n"
          ]
        },
        {
          "output_type": "stream",
          "name": "stderr",
          "text": [
            "\n",
            "----------------------------------------------------------------------\n",
            "Ran 1 test in 0.003s\n",
            "\n",
            "OK\n"
          ]
        }
      ]
    }
  ]
}